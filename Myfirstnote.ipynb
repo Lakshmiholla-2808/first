{
    "cells": [
        {
            "cell_type": "markdown",
            "metadata": {
                "collapsed": true
            },
            "source": "# My Jupyter Notebook on IBM Data Science Experience\n"
        },
        {
            "cell_type": "markdown",
            "metadata": {},
            "source": "**Lakshmi Holla**  \n  Teacher"
        },
        {
            "cell_type": "markdown",
            "metadata": {},
            "source": "*I am interested in Data Science as I like professions related to analyzing diverse data.*  \n *Data about reviews fascinates me. I like to explore a career in Sentiment Analysis.*"
        },
        {
            "cell_type": "markdown",
            "metadata": {},
            "source": "### Add 2 numbers"
        },
        {
            "cell_type": "code",
            "execution_count": 2,
            "metadata": {},
            "outputs": [
                {
                    "data": {
                        "text/plain": "2"
                    },
                    "execution_count": 2,
                    "metadata": {},
                    "output_type": "execute_result"
                }
            ],
            "source": "1+1"
        },
        {
            "cell_type": "markdown",
            "metadata": {},
            "source": "Numbered Lists  \n1.List1  \n2.List2  \n3.List3  \n\nBulleted Lists\n* One  \n* Two  \n* Three  \n\nTables\n\n| Fruits        | Number        | Price  |\n|:-------------:|:------------- | -----: |\n| Apple         | 2             | Rs30   |\n| Mango         | 3             | Rs40   |\n| Banana        | 4             | Rs 100 |"
        },
        {
            "cell_type": "code",
            "execution_count": null,
            "metadata": {},
            "outputs": [],
            "source": ""
        }
    ],
    "metadata": {
        "kernelspec": {
            "display_name": "Python 3.6",
            "language": "python",
            "name": "python3"
        },
        "language_info": {
            "codemirror_mode": {
                "name": "ipython",
                "version": 3
            },
            "file_extension": ".py",
            "mimetype": "text/x-python",
            "name": "python",
            "nbconvert_exporter": "python",
            "pygments_lexer": "ipython3",
            "version": "3.6.9"
        }
    },
    "nbformat": 4,
    "nbformat_minor": 1
}